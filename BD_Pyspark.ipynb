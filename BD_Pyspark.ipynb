{
 "cells": [
  {
   "cell_type": "code",
   "execution_count": 2,
   "id": "5dc4fd13",
   "metadata": {},
   "outputs": [
    {
     "name": "stdout",
     "output_type": "stream",
     "text": [
      "env: SPARK_LOCAL_HOSTNAME=localhost\n"
     ]
    }
   ],
   "source": [
    "%env SPARK_LOCAL_HOSTNAME=localhost\n",
    "\n",
    "import pyspark"
   ]
  },
  {
   "cell_type": "code",
   "execution_count": 3,
   "id": "667cc587",
   "metadata": {},
   "outputs": [],
   "source": [
    "from pyspark.sql import SparkSession"
   ]
  },
  {
   "cell_type": "code",
   "execution_count": 4,
   "id": "fed97ea6",
   "metadata": {},
   "outputs": [],
   "source": [
    "spark = SparkSession.builder.appName('BD').getOrCreate()"
   ]
  },
  {
   "cell_type": "code",
   "execution_count": 22,
   "id": "7c4320c0",
   "metadata": {},
   "outputs": [],
   "source": [
    "from pyspark.ml.feature import Tokenizer, RegexTokenizer\n",
    "from pyspark.ml.functions import *\n",
    "from pyspark.sql.types import *\n",
    "from pyspark.sql.functions import *\n",
    "from pyspark.ml.classification import LogisticRegression\n",
    "from pyspark.ml.feature import StopWordsRemover\n",
    "from pyspark.ml.feature import HashingTF, IDF\n",
    "from pyspark.ml.feature import CountVectorizer\n",
    "from pyspark.ml.classification import NaiveBayes, NaiveBayesModel"
   ]
  },
  {
   "cell_type": "markdown",
   "id": "9427392c",
   "metadata": {},
   "source": [
    "### Reading Data File in Spark Data Frame"
   ]
  },
  {
   "cell_type": "code",
   "execution_count": 24,
   "id": "a31a387a",
   "metadata": {},
   "outputs": [
    {
     "name": "stdout",
     "output_type": "stream",
     "text": [
      "+------------------------------------------------------------------------------------------------------------+------+\n",
      "|headline                                                                                                    |label3|\n",
      "+------------------------------------------------------------------------------------------------------------+------+\n",
      "|Unpaid Kentucky coal miners have been blocking a train track for 3 weeks                                    |0.0   |\n",
      "|New revelations about Herschel Walker show how Democrats could hold the Senate                              |1.0   |\n",
      "|Amazon referred to DOJ for potential criminal obstruction of Congress                                       |0.0   |\n",
      "|Swedish navy returns to vast underground HQ amid Russia fears                                               |0.0   |\n",
      "|Supreme Court strikes down Louisiana law that would have limited state to one abortion clinic               |1.0   |\n",
      "|The fight over domestic COVID funding is holding back global vaccination                                    |0.0   |\n",
      "|Twitter temporarily restricts Donald Trump Jr.'s account after he posts video claiming masks are unnecessary|0.0   |\n",
      "+------------------------------------------------------------------------------------------------------------+------+\n",
      "only showing top 7 rows\n",
      "\n"
     ]
    }
   ],
   "source": [
    "reddit_csv = spark.read.csv('reddit_headlines_labels3.csv', inferSchema=True, header=True)\n",
    "reddit_csv.show(truncate=False, n=7)"
   ]
  },
  {
   "cell_type": "code",
   "execution_count": 6,
   "id": "44a41235",
   "metadata": {},
   "outputs": [
    {
     "name": "stdout",
     "output_type": "stream",
     "text": [
      "+--------+------+\n",
      "|headline|label3|\n",
      "+--------+------+\n",
      "+--------+------+\n",
      "\n"
     ]
    }
   ],
   "source": [
    "reddit_csv.where(col(\"label3\").isNull()).show()"
   ]
  },
  {
   "cell_type": "code",
   "execution_count": 7,
   "id": "7c28113a",
   "metadata": {},
   "outputs": [
    {
     "data": {
      "text/plain": [
       "[('headline', 'string'), ('label3', 'string')]"
      ]
     },
     "execution_count": 7,
     "metadata": {},
     "output_type": "execute_result"
    }
   ],
   "source": [
    "reddit_csv.dtypes"
   ]
  },
  {
   "cell_type": "code",
   "execution_count": 8,
   "id": "05660140",
   "metadata": {},
   "outputs": [
    {
     "name": "stdout",
     "output_type": "stream",
     "text": [
      "root\n",
      " |-- headline: string (nullable = true)\n",
      " |-- label3: string (nullable = true)\n",
      "\n"
     ]
    }
   ],
   "source": [
    "reddit_csv.printSchema()"
   ]
  },
  {
   "cell_type": "code",
   "execution_count": 9,
   "id": "ba84fd71",
   "metadata": {},
   "outputs": [
    {
     "name": "stdout",
     "output_type": "stream",
     "text": [
      "root\n",
      " |-- headline: string (nullable = true)\n",
      " |-- label3: integer (nullable = true)\n",
      "\n"
     ]
    }
   ],
   "source": [
    "data = reddit_csv.withColumn('label3', reddit_csv['label3'].cast('int'))\n",
    "data.printSchema()"
   ]
  },
  {
   "cell_type": "code",
   "execution_count": 10,
   "id": "bf8d0586",
   "metadata": {},
   "outputs": [
    {
     "name": "stdout",
     "output_type": "stream",
     "text": [
      "+--------------------+------+\n",
      "|            headline|label3|\n",
      "+--------------------+------+\n",
      "|Unpaid Kentucky c...|     0|\n",
      "|New revelations a...|     1|\n",
      "|Amazon referred t...|     0|\n",
      "|Swedish navy retu...|     0|\n",
      "|Supreme Court str...|     1|\n",
      "+--------------------+------+\n",
      "only showing top 5 rows\n",
      "\n"
     ]
    }
   ],
   "source": [
    "data.show(5)"
   ]
  },
  {
   "cell_type": "code",
   "execution_count": 11,
   "id": "ee63dabc",
   "metadata": {},
   "outputs": [
    {
     "name": "stdout",
     "output_type": "stream",
     "text": [
      "+---------------------------------------------------------------------------------------------+------+\n",
      "|headline                                                                                     |label3|\n",
      "+---------------------------------------------------------------------------------------------+------+\n",
      "|Unpaid Kentucky coal miners have been blocking a train track for 3 weeks                     |0     |\n",
      "|New revelations about Herschel Walker show how Democrats could hold the Senate               |1     |\n",
      "|Amazon referred to DOJ for potential criminal obstruction of Congress                        |0     |\n",
      "|Swedish navy returns to vast underground HQ amid Russia fears                                |0     |\n",
      "|Supreme Court strikes down Louisiana law that would have limited state to one abortion clinic|1     |\n",
      "+---------------------------------------------------------------------------------------------+------+\n",
      "only showing top 5 rows\n",
      "\n"
     ]
    }
   ],
   "source": [
    "data = reddit_csv.select(\"headline\", col(\"label3\").cast(\"Int\").alias(\"label3\"))\n",
    "data.show(truncate = False,n=5)"
   ]
  },
  {
   "cell_type": "code",
   "execution_count": 12,
   "id": "0d4a509b",
   "metadata": {},
   "outputs": [
    {
     "data": {
      "text/plain": [
       "50"
      ]
     },
     "execution_count": 12,
     "metadata": {},
     "output_type": "execute_result"
    }
   ],
   "source": [
    "data.where(col(\"label3\").isNull()).count()"
   ]
  },
  {
   "cell_type": "code",
   "execution_count": 13,
   "id": "14c1dd01",
   "metadata": {},
   "outputs": [],
   "source": [
    "data = data.na.drop()"
   ]
  },
  {
   "cell_type": "markdown",
   "id": "1369ae3d",
   "metadata": {},
   "source": [
    "### Divide the Data into Train and Test Data "
   ]
  },
  {
   "cell_type": "code",
   "execution_count": 14,
   "id": "bad6daa2",
   "metadata": {},
   "outputs": [
    {
     "name": "stdout",
     "output_type": "stream",
     "text": [
      "Training Data Rows: 3516 ; Testing Data Rows: 1503\n"
     ]
    }
   ],
   "source": [
    "#Divide the data into 70% for training and 30% for testing\n",
    "dividedData = data.randomSplit([0.7,0.3])\n",
    "trainingData = dividedData[0] #index[0] = data training\n",
    "testingData = dividedData[1] #index[0] = data testing\n",
    "print('Training Data Rows:', trainingData.count(),'; Testing Data Rows:', testingData.count())"
   ]
  },
  {
   "cell_type": "code",
   "execution_count": 15,
   "id": "9023cc4b",
   "metadata": {},
   "outputs": [
    {
     "name": "stdout",
     "output_type": "stream",
     "text": [
      "+--------------------+------+\n",
      "|            headline|label3|\n",
      "+--------------------+------+\n",
      "|\"\"\"China Is Natio...|     0|\n",
      "|\"\"\"Crisis: Danger...|     1|\n",
      "|\"\"\"Disturbing\"\" m...|     1|\n",
      "|\"\"\"F-35s Don't He...|     0|\n",
      "|\"\"\"General Mud\"\" ...|     0|\n",
      "|\"\"\"I want you to ...|     0|\n",
      "|\"\"\"Is that too so...|     0|\n",
      "|\"\"\"Putin wants to...|     0|\n",
      "|\"\"\"QAnon Shaman\"\"...|     0|\n",
      "|\"\"\"They have brok...|     0|\n",
      "|\"\"\"War Justificat...|     0|\n",
      "|\"\"\"What I Know Ab...|     1|\n",
      "|\"\"\"Where the f***...|     0|\n",
      "|\"'Unacceptable': ...|     0|\n",
      "|\"'We Have Got to ...|     1|\n",
      "|\"'Yes, Exactly,' ...|     0|\n",
      "|\"911 call from Br...|     0|\n",
      "|\"After Inlander i...|     0|\n",
      "|\"Amazon blocks sa...|     0|\n",
      "|\"As Trump Says 'V...|     0|\n",
      "+--------------------+------+\n",
      "only showing top 20 rows\n",
      "\n"
     ]
    }
   ],
   "source": [
    "trainingData.show()"
   ]
  },
  {
   "cell_type": "markdown",
   "id": "dc8d7b7c",
   "metadata": {},
   "source": [
    "### Preparing Training Data"
   ]
  },
  {
   "cell_type": "markdown",
   "id": "0fc84d91",
   "metadata": {},
   "source": [
    "<br> Seperate individual words from 'headline' into seperate words"
   ]
  },
  {
   "cell_type": "code",
   "execution_count": 16,
   "id": "e85c1aed",
   "metadata": {},
   "outputs": [
    {
     "name": "stdout",
     "output_type": "stream",
     "text": [
      "+----------------------------------------------------------------------------------------------------------------------------+------+------------------------------------------------------------------------------------------------------------------------------------------+\n",
      "|headline                                                                                                                    |label3|headlineWords                                                                                                                             |\n",
      "+----------------------------------------------------------------------------------------------------------------------------+------+------------------------------------------------------------------------------------------------------------------------------------------+\n",
      "|\"\"\"China Is National Security Threat No. 1\"\" -- US Director of National Intelligence John Ratcliffe\"                        |0     |[china, is, national, security, threat, no, 1, us, director, of, national, intelligence, john, ratcliffe]                                 |\n",
      "|\"\"\"Crisis: Danger and Opportunity\"\" - China's geopolitical opportunity in the Ukraine Invasion\"                             |1     |[crisis, danger, and, opportunity, china, s, geopolitical, opportunity, in, the, ukraine, invasion]                                       |\n",
      "|\"\"\"Disturbing\"\" memo reveals Trump's USPS chief has slowed delivery amid calls to expand voting by mail\"                    |1     |[disturbing, memo, reveals, trump, s, usps, chief, has, slowed, delivery, amid, calls, to, expand, voting, by, mail]                      |\n",
      "|\"\"\"F-35s Don't Help Families Pay Their Bills\"\": GOP Under Fire for Slipping $30 Billion Pentagon Gift Into Coronavirus Bill\"|0     |[f, 35s, don, t, help, families, pay, their, bills, gop, under, fire, for, slipping, 30, billion, pentagon, gift, into, coronavirus, bill]|\n",
      "|\"\"\"General Mud\"\" Putin's biggest enemy and Ukraine's only ally\"                                                             |0     |[general, mud, putin, s, biggest, enemy, and, ukraine, s, only, ally]                                                                     |\n",
      "+----------------------------------------------------------------------------------------------------------------------------+------+------------------------------------------------------------------------------------------------------------------------------------------+\n",
      "only showing top 5 rows\n",
      "\n"
     ]
    }
   ],
   "source": [
    "tokenizer = RegexTokenizer(inputCol=\"headline\", outputCol=\"headlineWords\", pattern='\\\\W') #RegularExpression Tokenizer\n",
    "tokenizedTrain = tokenizer.transform(trainingData)\n",
    "tokenizedTrain.show(truncate=False, n=5)"
   ]
  },
  {
   "cell_type": "code",
   "execution_count": 17,
   "id": "209f4a6c",
   "metadata": {},
   "outputs": [
    {
     "name": "stdout",
     "output_type": "stream",
     "text": [
      "+--------------------+------+--------------------+\n",
      "|            headline|label3|       headlineWords|\n",
      "+--------------------+------+--------------------+\n",
      "|\"\"\"China Is Natio...|     0|[china, is, natio...|\n",
      "|\"\"\"Crisis: Danger...|     1|[crisis, danger, ...|\n",
      "|\"\"\"Disturbing\"\" m...|     1|[disturbing, memo...|\n",
      "|\"\"\"F-35s Don't He...|     0|[f, 35s, don, t, ...|\n",
      "|\"\"\"General Mud\"\" ...|     0|[general, mud, pu...|\n",
      "+--------------------+------+--------------------+\n",
      "only showing top 5 rows\n",
      "\n"
     ]
    }
   ],
   "source": [
    "tokenizedTrain.show(truncate=True, n=5)"
   ]
  },
  {
   "cell_type": "markdown",
   "id": "b5f0953c",
   "metadata": {},
   "source": [
    "<br> Removing stop words </br>"
   ]
  },
  {
   "cell_type": "code",
   "execution_count": 18,
   "id": "2f588bf9",
   "metadata": {},
   "outputs": [
    {
     "name": "stdout",
     "output_type": "stream",
     "text": [
      "+----------------------------------------------------------------------------------------------------------------------------+------+------------------------------------------------------------------------------------------------------------------------------------------+---------------------------------------------------------------------------------------------------------+\n",
      "|headline                                                                                                                    |label3|headlineWords                                                                                                                             |MeaningfulWords                                                                                          |\n",
      "+----------------------------------------------------------------------------------------------------------------------------+------+------------------------------------------------------------------------------------------------------------------------------------------+---------------------------------------------------------------------------------------------------------+\n",
      "|\"\"\"China Is National Security Threat No. 1\"\" -- US Director of National Intelligence John Ratcliffe\"                        |0     |[china, is, national, security, threat, no, 1, us, director, of, national, intelligence, john, ratcliffe]                                 |[china, national, security, threat, 1, us, director, national, intelligence, john, ratcliffe]            |\n",
      "|\"\"\"Crisis: Danger and Opportunity\"\" - China's geopolitical opportunity in the Ukraine Invasion\"                             |1     |[crisis, danger, and, opportunity, china, s, geopolitical, opportunity, in, the, ukraine, invasion]                                       |[crisis, danger, opportunity, china, geopolitical, opportunity, ukraine, invasion]                       |\n",
      "|\"\"\"Disturbing\"\" memo reveals Trump's USPS chief has slowed delivery amid calls to expand voting by mail\"                    |1     |[disturbing, memo, reveals, trump, s, usps, chief, has, slowed, delivery, amid, calls, to, expand, voting, by, mail]                      |[disturbing, memo, reveals, trump, usps, chief, slowed, delivery, amid, calls, expand, voting, mail]     |\n",
      "|\"\"\"F-35s Don't Help Families Pay Their Bills\"\": GOP Under Fire for Slipping $30 Billion Pentagon Gift Into Coronavirus Bill\"|0     |[f, 35s, don, t, help, families, pay, their, bills, gop, under, fire, for, slipping, 30, billion, pentagon, gift, into, coronavirus, bill]|[f, 35s, help, families, pay, bills, gop, fire, slipping, 30, billion, pentagon, gift, coronavirus, bill]|\n",
      "|\"\"\"General Mud\"\" Putin's biggest enemy and Ukraine's only ally\"                                                             |0     |[general, mud, putin, s, biggest, enemy, and, ukraine, s, only, ally]                                                                     |[general, mud, putin, biggest, enemy, ukraine, ally]                                                     |\n",
      "+----------------------------------------------------------------------------------------------------------------------------+------+------------------------------------------------------------------------------------------------------------------------------------------+---------------------------------------------------------------------------------------------------------+\n",
      "only showing top 5 rows\n",
      "\n"
     ]
    }
   ],
   "source": [
    "swr = StopWordsRemover(inputCol=tokenizer.getOutputCol(), \n",
    "                       outputCol=\"MeaningfulWords\")\n",
    "SwRemovedTrain = swr.transform(tokenizedTrain)\n",
    "SwRemovedTrain.show(truncate=False, n=5)"
   ]
  },
  {
   "cell_type": "markdown",
   "id": "9b3ecec5",
   "metadata": {},
   "source": [
    "<br> Converting word features into numerical features </br>"
   ]
  },
  {
   "cell_type": "code",
   "execution_count": 19,
   "id": "c2c46b96",
   "metadata": {},
   "outputs": [
    {
     "name": "stdout",
     "output_type": "stream",
     "text": [
      "+------+----------------------------------------------------------------------------------------------------+----------------------------------------------------------------------------------------------------------------------------------------------------+\n",
      "|label3|MeaningfulWords                                                                                     |features                                                                                                                                            |\n",
      "+------+----------------------------------------------------------------------------------------------------+----------------------------------------------------------------------------------------------------------------------------------------------------+\n",
      "|0     |[china, national, security, threat, 1, us, director, national, intelligence, john, ratcliffe]       |(262144,[13981,81060,92651,107101,109156,194186,212790,219622,230810,251861],[1.0,1.0,1.0,1.0,1.0,1.0,2.0,1.0,1.0,1.0])                             |\n",
      "|1     |[crisis, danger, opportunity, china, geopolitical, opportunity, ukraine, invasion]                  |(262144,[36598,70162,82967,190473,196082,230810,234128],[1.0,1.0,1.0,1.0,1.0,1.0,2.0])                                                              |\n",
      "|1     |[disturbing, memo, reveals, trump, usps, chief, slowed, delivery, amid, calls, expand, voting, mail]|(262144,[6801,7484,66512,70018,87374,120768,122606,144502,155983,198131,216008,251603,257975],[1.0,1.0,1.0,1.0,1.0,1.0,1.0,1.0,1.0,1.0,1.0,1.0,1.0])|\n",
      "+------+----------------------------------------------------------------------------------------------------+----------------------------------------------------------------------------------------------------------------------------------------------------+\n",
      "only showing top 3 rows\n",
      "\n"
     ]
    }
   ],
   "source": [
    "hashTF = HashingTF(inputCol=swr.getOutputCol(), outputCol=\"features\")\n",
    "numericTrainData = hashTF.transform(SwRemovedTrain).select(\n",
    "    'label3', 'MeaningfulWords', 'features')\n",
    "numericTrainData.show(truncate=False, n=3)"
   ]
  },
  {
   "cell_type": "markdown",
   "id": "ccf86290",
   "metadata": {},
   "source": [
    "### Training the model"
   ]
  },
  {
   "cell_type": "code",
   "execution_count": 110,
   "id": "f7e646a8",
   "metadata": {},
   "outputs": [],
   "source": [
    "lr = LogisticRegression(labelCol=\"label3\", featuresCol=\"features\", \n",
    "                        maxIter=10, regParam=0.01, elasticNetParam=0.8)\n",
    "model = lr.fit(numericTrainData)\n",
    "#print (\"Training is done!\")"
   ]
  },
  {
   "cell_type": "markdown",
   "id": "e19f8331",
   "metadata": {},
   "source": [
    "### Preparing Test Data"
   ]
  },
  {
   "cell_type": "code",
   "execution_count": 111,
   "id": "15ad759f",
   "metadata": {},
   "outputs": [
    {
     "name": "stdout",
     "output_type": "stream",
     "text": [
      "+------+---------------------------------------------------------------------------------------------+-----------------------------------------------------------------------------------------------------------------------+\n",
      "|Label3|MeaningfulWords                                                                              |features                                                                                                               |\n",
      "+------+---------------------------------------------------------------------------------------------+-----------------------------------------------------------------------------------------------------------------------+\n",
      "|0     |[china, national, security, threat, 1, us, director, national, intelligence, john, ratcliffe]|(262144,[13981,81060,92651,107101,109156,194186,212790,219622,230810,251861],[1.0,1.0,1.0,1.0,1.0,1.0,2.0,1.0,1.0,1.0])|\n",
      "|0     |[socialist, aoc, pleads, second, stimulus, checks, rent, forgiveness, pandemic, rages]       |(262144,[6696,52471,79160,156603,209507,221236,227061,227440,229821,236776],[1.0,1.0,1.0,1.0,1.0,1.0,1.0,1.0,1.0,1.0]) |\n",
      "+------+---------------------------------------------------------------------------------------------+-----------------------------------------------------------------------------------------------------------------------+\n",
      "only showing top 2 rows\n",
      "\n"
     ]
    }
   ],
   "source": [
    "tokenizedTest = tokenizer.transform(testingData)\n",
    "SwRemovedTest = swr.transform(tokenizedTest)\n",
    "numericTest = hashTF.transform(SwRemovedTest).select(\n",
    "    'Label3', 'MeaningfulWords', 'features')\n",
    "numericTest.show(truncate=False, n=2)"
   ]
  },
  {
   "cell_type": "markdown",
   "id": "2199ae5c",
   "metadata": {},
   "source": [
    "### Predict testing data and calculate the accuracy model"
   ]
  },
  {
   "cell_type": "code",
   "execution_count": 112,
   "id": "0e03c1be",
   "metadata": {},
   "outputs": [
    {
     "name": "stdout",
     "output_type": "stream",
     "text": [
      "+-----------------------------------------------------------------------------------------------------------------------------------------------------------------------------------------------------------+----------+------+\n",
      "|MeaningfulWords                                                                                                                                                                                            |prediction|Label3|\n",
      "+-----------------------------------------------------------------------------------------------------------------------------------------------------------------------------------------------------------+----------+------+\n",
      "|[china, national, security, threat, 1, us, director, national, intelligence, john, ratcliffe]                                                                                                              |0.0       |0     |\n",
      "|[socialist, aoc, pleads, second, stimulus, checks, rent, forgiveness, pandemic, rages]                                                                                                                     |1.0       |0     |\n",
      "|[know, gabriel, boric, americas, quarterly]                                                                                                                                                                |1.0       |1     |\n",
      "|[unacceptable, dems, fume, trump, announces, plan, refuse, congressional, oversight, corporate, bailout, funds, frightening, amount, public, money, given, corrupt, admininistration, zero, accountability]|0.0       |0     |\n",
      "+-----------------------------------------------------------------------------------------------------------------------------------------------------------------------------------------------------------+----------+------+\n",
      "only showing top 4 rows\n",
      "\n",
      "correct prediction: 1220 , total data: 1525 , accuracy: 0.8\n"
     ]
    }
   ],
   "source": [
    "prediction = model.transform(numericTest)\n",
    "predictionFinal = prediction.select(\n",
    "    \"MeaningfulWords\", \"prediction\", \"Label3\")\n",
    "predictionFinal.show(n=4, truncate = False)\n",
    "correctPrediction = predictionFinal.filter(\n",
    "    predictionFinal['prediction'] == predictionFinal['Label3']).count()\n",
    "totalData = predictionFinal.count()\n",
    "print(\"correct prediction:\", correctPrediction, \", total data:\", totalData, \n",
    "      \", accuracy:\", correctPrediction/totalData)"
   ]
  }
 ],
 "metadata": {
  "kernelspec": {
   "display_name": "Python 3 (ipykernel)",
   "language": "python",
   "name": "python3"
  },
  "language_info": {
   "codemirror_mode": {
    "name": "ipython",
    "version": 3
   },
   "file_extension": ".py",
   "mimetype": "text/x-python",
   "name": "python",
   "nbconvert_exporter": "python",
   "pygments_lexer": "ipython3",
   "version": "3.9.6"
  }
 },
 "nbformat": 4,
 "nbformat_minor": 5
}
